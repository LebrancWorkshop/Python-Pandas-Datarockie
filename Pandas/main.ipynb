{
 "cells": [
  {
   "cell_type": "code",
   "execution_count": 25,
   "metadata": {},
   "outputs": [],
   "source": [
    "import pandas as pd"
   ]
  },
  {
   "cell_type": "code",
   "execution_count": 26,
   "metadata": {},
   "outputs": [],
   "source": [
    "k_drama = {\n",
    "\t\"name\": [\"Healer\", \"Extraordinary Attorney Woo\", \"Tunnel\", \"Law School\", \"Descendant of the sun\"],\n",
    "\t\"rating\": [8.5, 10.0, 7.5, 7.0, 9.0] # Pretending data / Mock data. \n",
    "}"
   ]
  },
  {
   "cell_type": "code",
   "execution_count": 27,
   "metadata": {},
   "outputs": [
    {
     "name": "stdout",
     "output_type": "stream",
     "text": [
      "                         name  rating\n",
      "0                      Healer     8.5\n",
      "1  Extraordinary Attorney Woo    10.0\n",
      "2                      Tunnel     7.5\n",
      "3                  Law School     7.0\n",
      "4       Descendant of the sun     9.0\n"
     ]
    }
   ],
   "source": [
    "k_drama_data = pd.DataFrame(k_drama)\n",
    "print(k_drama_data)"
   ]
  },
  {
   "cell_type": "code",
   "execution_count": 28,
   "metadata": {},
   "outputs": [
    {
     "name": "stdout",
     "output_type": "stream",
     "text": [
      "                         name  rating channel\n",
      "0                      Healer     8.5    KBS2\n",
      "1  Extraordinary Attorney Woo    10.0     ENA\n",
      "2                      Tunnel     7.5     OCN\n",
      "3                  Law School     7.0    JTBC\n",
      "4       Descendant of the sun     9.0    KBS2\n"
     ]
    }
   ],
   "source": [
    "# Add new column to dataframe. \n",
    "k_drama_data[\"channel\"] = [\"KBS2\", \"ENA\", \"OCN\", \"JTBC\", \"KBS2\"]\n",
    "print(k_drama_data)"
   ]
  },
  {
   "cell_type": "code",
   "execution_count": 29,
   "metadata": {},
   "outputs": [
    {
     "name": "stdout",
     "output_type": "stream",
     "text": [
      "                         name channel\n",
      "0                      Healer    KBS2\n",
      "1  Extraordinary Attorney Woo     ENA\n",
      "2                      Tunnel     OCN\n",
      "3                  Law School    JTBC\n",
      "4       Descendant of the sun    KBS2\n"
     ]
    }
   ],
   "source": [
    "# Drop a column from dataframe. \n",
    "k_drama_data = k_drama_data.drop(\"rating\", axis=1)\n",
    "print(k_drama_data)"
   ]
  },
  {
   "cell_type": "code",
   "execution_count": 30,
   "metadata": {},
   "outputs": [
    {
     "name": "stdout",
     "output_type": "stream",
     "text": [
      "                         name channel\n",
      "1  Extraordinary Attorney Woo     ENA\n",
      "2                      Tunnel     OCN\n",
      "3                  Law School    JTBC\n",
      "4       Descendant of the sun    KBS2\n"
     ]
    }
   ],
   "source": [
    "# Drop a row from dataframe.\n",
    "k_drama_data = k_drama_data.drop(0, axis=0)\n",
    "print(k_drama_data) "
   ]
  },
  {
   "cell_type": "code",
   "execution_count": 31,
   "metadata": {},
   "outputs": [
    {
     "name": "stdout",
     "output_type": "stream",
     "text": [
      "                         name channel\n",
      "0  Extraordinary Attorney Woo     ENA\n",
      "1                      Tunnel     OCN\n",
      "2                  Law School    JTBC\n",
      "3       Descendant of the sun    KBS2\n"
     ]
    }
   ],
   "source": [
    "# Reset Index from dataframe's row. \n",
    "k_drama_data = k_drama_data.reset_index(drop = True)\n",
    "print(k_drama_data) "
   ]
  }
 ],
 "metadata": {
  "kernelspec": {
   "display_name": "Python 3.8.8 ('base')",
   "language": "python",
   "name": "python3"
  },
  "language_info": {
   "codemirror_mode": {
    "name": "ipython",
    "version": 3
   },
   "file_extension": ".py",
   "mimetype": "text/x-python",
   "name": "python",
   "nbconvert_exporter": "python",
   "pygments_lexer": "ipython3",
   "version": "3.8.8"
  },
  "orig_nbformat": 4,
  "vscode": {
   "interpreter": {
    "hash": "af79604d8e184c3ef00903d08fc3dd6669cfb685853d271eb88e3d50270d87f9"
   }
  }
 },
 "nbformat": 4,
 "nbformat_minor": 2
}
