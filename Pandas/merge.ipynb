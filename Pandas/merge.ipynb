{
 "cells": [
  {
   "cell_type": "code",
   "execution_count": 7,
   "metadata": {},
   "outputs": [],
   "source": [
    "import pandas as pd\n",
    "import numpy as np"
   ]
  },
  {
   "cell_type": "code",
   "execution_count": 8,
   "metadata": {},
   "outputs": [],
   "source": [
    "people = {\n",
    "\t\"id\": [1,2,3,4,5],\n",
    "\t\"name\": [\"Surin\", \"Precha\", \"Nonthakarn\", \"Araya\", \"Jindarat\"],\n",
    "\t\"subject\": [\"Math\", \"P.E.\", \"Art\", \"Chemistry\", \"Chinese\"]\n",
    "}\n",
    "\n",
    "school = {\n",
    "\t\"id\": [1,2,3,4,5],\n",
    "\t\"school_name\": [\"Barry International School\", \"Ban Muang School of Libetarian\", \"Special Institute of Data Science\", \"Prayuthland College\", \"Defense Yourself from Proverty Academy\"],\n",
    "\t\"province\": [\"Bangkok\", \"Nonthaburi\", \"Korat\", \"Yala\", \"Chiangrai\"]\n",
    "}"
   ]
  },
  {
   "cell_type": "code",
   "execution_count": 9,
   "metadata": {},
   "outputs": [],
   "source": [
    "people_data = pd.DataFrame(people)\n",
    "school_data = pd.DataFrame(school)"
   ]
  },
  {
   "cell_type": "code",
   "execution_count": 10,
   "metadata": {},
   "outputs": [
    {
     "data": {
      "text/html": [
       "<div>\n",
       "<style scoped>\n",
       "    .dataframe tbody tr th:only-of-type {\n",
       "        vertical-align: middle;\n",
       "    }\n",
       "\n",
       "    .dataframe tbody tr th {\n",
       "        vertical-align: top;\n",
       "    }\n",
       "\n",
       "    .dataframe thead th {\n",
       "        text-align: right;\n",
       "    }\n",
       "</style>\n",
       "<table border=\"1\" class=\"dataframe\">\n",
       "  <thead>\n",
       "    <tr style=\"text-align: right;\">\n",
       "      <th></th>\n",
       "      <th>id</th>\n",
       "      <th>school_name</th>\n",
       "      <th>province</th>\n",
       "    </tr>\n",
       "  </thead>\n",
       "  <tbody>\n",
       "    <tr>\n",
       "      <th>0</th>\n",
       "      <td>1</td>\n",
       "      <td>Barry International School</td>\n",
       "      <td>Bangkok</td>\n",
       "    </tr>\n",
       "    <tr>\n",
       "      <th>1</th>\n",
       "      <td>2</td>\n",
       "      <td>Ban Muang School of Libetarian</td>\n",
       "      <td>Nonthaburi</td>\n",
       "    </tr>\n",
       "    <tr>\n",
       "      <th>2</th>\n",
       "      <td>3</td>\n",
       "      <td>Special Institute of Data Science</td>\n",
       "      <td>Korat</td>\n",
       "    </tr>\n",
       "    <tr>\n",
       "      <th>3</th>\n",
       "      <td>4</td>\n",
       "      <td>Prayuthland College</td>\n",
       "      <td>Yala</td>\n",
       "    </tr>\n",
       "    <tr>\n",
       "      <th>4</th>\n",
       "      <td>5</td>\n",
       "      <td>Defense Yourself from Proverty Academy</td>\n",
       "      <td>Chiangrai</td>\n",
       "    </tr>\n",
       "  </tbody>\n",
       "</table>\n",
       "</div>"
      ],
      "text/plain": [
       "   id                             school_name    province\n",
       "0   1              Barry International School     Bangkok\n",
       "1   2          Ban Muang School of Libetarian  Nonthaburi\n",
       "2   3       Special Institute of Data Science       Korat\n",
       "3   4                     Prayuthland College        Yala\n",
       "4   5  Defense Yourself from Proverty Academy   Chiangrai"
      ]
     },
     "execution_count": 10,
     "metadata": {},
     "output_type": "execute_result"
    }
   ],
   "source": [
    "school_data"
   ]
  },
  {
   "cell_type": "code",
   "execution_count": 11,
   "metadata": {},
   "outputs": [
    {
     "data": {
      "text/html": [
       "<div>\n",
       "<style scoped>\n",
       "    .dataframe tbody tr th:only-of-type {\n",
       "        vertical-align: middle;\n",
       "    }\n",
       "\n",
       "    .dataframe tbody tr th {\n",
       "        vertical-align: top;\n",
       "    }\n",
       "\n",
       "    .dataframe thead th {\n",
       "        text-align: right;\n",
       "    }\n",
       "</style>\n",
       "<table border=\"1\" class=\"dataframe\">\n",
       "  <thead>\n",
       "    <tr style=\"text-align: right;\">\n",
       "      <th></th>\n",
       "      <th>id</th>\n",
       "      <th>name</th>\n",
       "      <th>subject</th>\n",
       "      <th>school_name</th>\n",
       "      <th>province</th>\n",
       "    </tr>\n",
       "  </thead>\n",
       "  <tbody>\n",
       "    <tr>\n",
       "      <th>0</th>\n",
       "      <td>1</td>\n",
       "      <td>Surin</td>\n",
       "      <td>Math</td>\n",
       "      <td>Barry International School</td>\n",
       "      <td>Bangkok</td>\n",
       "    </tr>\n",
       "    <tr>\n",
       "      <th>1</th>\n",
       "      <td>2</td>\n",
       "      <td>Precha</td>\n",
       "      <td>P.E.</td>\n",
       "      <td>Ban Muang School of Libetarian</td>\n",
       "      <td>Nonthaburi</td>\n",
       "    </tr>\n",
       "    <tr>\n",
       "      <th>2</th>\n",
       "      <td>3</td>\n",
       "      <td>Nonthakarn</td>\n",
       "      <td>Art</td>\n",
       "      <td>Special Institute of Data Science</td>\n",
       "      <td>Korat</td>\n",
       "    </tr>\n",
       "    <tr>\n",
       "      <th>3</th>\n",
       "      <td>4</td>\n",
       "      <td>Araya</td>\n",
       "      <td>Chemistry</td>\n",
       "      <td>Prayuthland College</td>\n",
       "      <td>Yala</td>\n",
       "    </tr>\n",
       "    <tr>\n",
       "      <th>4</th>\n",
       "      <td>5</td>\n",
       "      <td>Jindarat</td>\n",
       "      <td>Chinese</td>\n",
       "      <td>Defense Yourself from Proverty Academy</td>\n",
       "      <td>Chiangrai</td>\n",
       "    </tr>\n",
       "  </tbody>\n",
       "</table>\n",
       "</div>"
      ],
      "text/plain": [
       "   id        name    subject                             school_name  \\\n",
       "0   1       Surin       Math              Barry International School   \n",
       "1   2      Precha       P.E.          Ban Muang School of Libetarian   \n",
       "2   3  Nonthakarn        Art       Special Institute of Data Science   \n",
       "3   4       Araya  Chemistry                     Prayuthland College   \n",
       "4   5    Jindarat    Chinese  Defense Yourself from Proverty Academy   \n",
       "\n",
       "     province  \n",
       "0     Bangkok  \n",
       "1  Nonthaburi  \n",
       "2       Korat  \n",
       "3        Yala  \n",
       "4   Chiangrai  "
      ]
     },
     "execution_count": 11,
     "metadata": {},
     "output_type": "execute_result"
    }
   ],
   "source": [
    "student_data = pd.merge(people_data, school_data, on=\"id\")\n",
    "student_data"
   ]
  },
  {
   "cell_type": "code",
   "execution_count": 12,
   "metadata": {},
   "outputs": [
    {
     "data": {
      "text/html": [
       "<div>\n",
       "<style scoped>\n",
       "    .dataframe tbody tr th:only-of-type {\n",
       "        vertical-align: middle;\n",
       "    }\n",
       "\n",
       "    .dataframe tbody tr th {\n",
       "        vertical-align: top;\n",
       "    }\n",
       "\n",
       "    .dataframe thead th {\n",
       "        text-align: right;\n",
       "    }\n",
       "</style>\n",
       "<table border=\"1\" class=\"dataframe\">\n",
       "  <thead>\n",
       "    <tr style=\"text-align: right;\">\n",
       "      <th></th>\n",
       "      <th>ID</th>\n",
       "      <th>Name</th>\n",
       "      <th>Favorite Subject</th>\n",
       "      <th>School Name</th>\n",
       "      <th>Province</th>\n",
       "    </tr>\n",
       "  </thead>\n",
       "  <tbody>\n",
       "    <tr>\n",
       "      <th>0</th>\n",
       "      <td>1</td>\n",
       "      <td>Surin</td>\n",
       "      <td>Math</td>\n",
       "      <td>Barry International School</td>\n",
       "      <td>Bangkok</td>\n",
       "    </tr>\n",
       "    <tr>\n",
       "      <th>1</th>\n",
       "      <td>2</td>\n",
       "      <td>Precha</td>\n",
       "      <td>P.E.</td>\n",
       "      <td>Ban Muang School of Libetarian</td>\n",
       "      <td>Nonthaburi</td>\n",
       "    </tr>\n",
       "    <tr>\n",
       "      <th>2</th>\n",
       "      <td>3</td>\n",
       "      <td>Nonthakarn</td>\n",
       "      <td>Art</td>\n",
       "      <td>Special Institute of Data Science</td>\n",
       "      <td>Korat</td>\n",
       "    </tr>\n",
       "    <tr>\n",
       "      <th>3</th>\n",
       "      <td>4</td>\n",
       "      <td>Araya</td>\n",
       "      <td>Chemistry</td>\n",
       "      <td>Prayuthland College</td>\n",
       "      <td>Yala</td>\n",
       "    </tr>\n",
       "    <tr>\n",
       "      <th>4</th>\n",
       "      <td>5</td>\n",
       "      <td>Jindarat</td>\n",
       "      <td>Chinese</td>\n",
       "      <td>Defense Yourself from Proverty Academy</td>\n",
       "      <td>Chiangrai</td>\n",
       "    </tr>\n",
       "  </tbody>\n",
       "</table>\n",
       "</div>"
      ],
      "text/plain": [
       "   ID        Name Favorite Subject                             School Name  \\\n",
       "0   1       Surin             Math              Barry International School   \n",
       "1   2      Precha             P.E.          Ban Muang School of Libetarian   \n",
       "2   3  Nonthakarn              Art       Special Institute of Data Science   \n",
       "3   4       Araya        Chemistry                     Prayuthland College   \n",
       "4   5    Jindarat          Chinese  Defense Yourself from Proverty Academy   \n",
       "\n",
       "     Province  \n",
       "0     Bangkok  \n",
       "1  Nonthaburi  \n",
       "2       Korat  \n",
       "3        Yala  \n",
       "4   Chiangrai  "
      ]
     },
     "execution_count": 12,
     "metadata": {},
     "output_type": "execute_result"
    }
   ],
   "source": [
    "student_data.columns = [\"ID\", \"Name\", \"Favorite Subject\", \"School Name\", \"Province\"]\n",
    "student_data "
   ]
  },
  {
   "cell_type": "code",
   "execution_count": 14,
   "metadata": {},
   "outputs": [],
   "source": [
    "student_data.to_csv(\"Mocking_Student.csv\") "
   ]
  },
  {
   "cell_type": "code",
   "execution_count": null,
   "metadata": {},
   "outputs": [],
   "source": []
  }
 ],
 "metadata": {
  "kernelspec": {
   "display_name": "Python 3.8.8 ('base')",
   "language": "python",
   "name": "python3"
  },
  "language_info": {
   "codemirror_mode": {
    "name": "ipython",
    "version": 3
   },
   "file_extension": ".py",
   "mimetype": "text/x-python",
   "name": "python",
   "nbconvert_exporter": "python",
   "pygments_lexer": "ipython3",
   "version": "3.8.8"
  },
  "orig_nbformat": 4,
  "vscode": {
   "interpreter": {
    "hash": "af79604d8e184c3ef00903d08fc3dd6669cfb685853d271eb88e3d50270d87f9"
   }
  }
 },
 "nbformat": 4,
 "nbformat_minor": 2
}
