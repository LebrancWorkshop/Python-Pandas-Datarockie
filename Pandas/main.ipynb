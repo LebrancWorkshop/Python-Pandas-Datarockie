{
 "cells": [
  {
   "cell_type": "code",
   "execution_count": 1,
   "metadata": {},
   "outputs": [],
   "source": [
    "import pandas as pd"
   ]
  },
  {
   "cell_type": "code",
   "execution_count": 7,
   "metadata": {},
   "outputs": [],
   "source": [
    "k_drama = {\n",
    "\t\"name\": [\"Healer\", \"Extraordinary Attorney Woo\", \"Tunnel\", \"Law School\", \"Descendant of the sun\"],\n",
    "\t\"rating\": [8.5, 10.0, 7.5, 7.0, 9.0] # Pretending data / Mock data. \n",
    "}"
   ]
  },
  {
   "cell_type": "code",
   "execution_count": 8,
   "metadata": {},
   "outputs": [
    {
     "name": "stdout",
     "output_type": "stream",
     "text": [
      "                         name  rating\n",
      "0                      Healer     8.5\n",
      "1  Extraordinary Attorney Woo    10.0\n",
      "2                      Tunnel     7.5\n",
      "3                  Law School     7.0\n",
      "4       Descendant of the sun     9.0\n"
     ]
    }
   ],
   "source": [
    "k_drama_data = pd.DataFrame(k_drama)\n",
    "print(k_drama_data)"
   ]
  }
 ],
 "metadata": {
  "kernelspec": {
   "display_name": "Python 3.8.8 ('base')",
   "language": "python",
   "name": "python3"
  },
  "language_info": {
   "codemirror_mode": {
    "name": "ipython",
    "version": 3
   },
   "file_extension": ".py",
   "mimetype": "text/x-python",
   "name": "python",
   "nbconvert_exporter": "python",
   "pygments_lexer": "ipython3",
   "version": "3.8.8"
  },
  "orig_nbformat": 4,
  "vscode": {
   "interpreter": {
    "hash": "af79604d8e184c3ef00903d08fc3dd6669cfb685853d271eb88e3d50270d87f9"
   }
  }
 },
 "nbformat": 4,
 "nbformat_minor": 2
}
